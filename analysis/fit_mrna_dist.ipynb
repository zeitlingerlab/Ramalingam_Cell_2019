{
 "cells": [
  {
   "cell_type": "markdown",
   "id": "34345c85",
   "metadata": {},
   "source": [
    "Code written by Jay Unruh copyright 2021, Stowers Institute, license GNU GPLv2.0."
   ]
  },
  {
   "cell_type": "code",
   "execution_count": 1,
   "id": "c9c6d8b6",
   "metadata": {},
   "outputs": [],
   "source": [
    "import scipy.stats as ss\n",
    "import scipy.special as sc\n",
    "import scipy.optimize as so\n",
    "import numpy as np\n",
    "import pandas as pd\n",
    "import matplotlib.pyplot as plt\n",
    "#import importpw"
   ]
  },
  {
   "cell_type": "code",
   "execution_count": 2,
   "id": "e26af5d2",
   "metadata": {},
   "outputs": [],
   "source": [
    "def poisson(mu,k):\n",
    "    '''\n",
    "    this is an ultra fast version of the poisson distribution creator\n",
    "    '''\n",
    "    if(mu>0.0):\n",
    "        return np.exp(k*np.log(mu)-mu-sc.gammaln(k+1))\n",
    "    else:\n",
    "        temp=np.zeros(k.shape,dtype=float)\n",
    "        temp[0]=1.0\n",
    "        return temp\n",
    "\n",
    "def convolvePoisson(data):\n",
    "    '''\n",
    "    convolve a discrete distribution with the poisson function at each integer value\n",
    "    '''\n",
    "    newdata=np.zeros(len(data),type(data))\n",
    "    xvals=np.arange(len(data))\n",
    "    convs=np.array([poisson(float(i),xvals)*data for i in range(len(data))])\n",
    "    #convs=np.array([ss.poisson(float(i)).pmf(xvals)*data for i in range(len(data))])\n",
    "    #for i in range(len(data)):\n",
    "    #    poipmf=ss.poisson(float(i)).pmf(xvals)\n",
    "    #    newdata+=data*poipmf\n",
    "    #return newdata\n",
    "    return convs.sum(axis=0)\n",
    "\n",
    "def getRatioDist(iarate,airatio,amrate,startx=0,binsize=10,nbins=50):\n",
    "    '''\n",
    "    gets the mrna distribution from the activation and production rates and the active ratio\n",
    "    '''\n",
    "    return getDist(iarate,iarate/airatio,amrate,startx=startx,binsize=binsize,nbins=nbins)\n",
    "\n",
    "def getDist(iarate2,airate2,amrate2,startx=0,binsize=10,nbins=50):\n",
    "    '''\n",
    "    gets the mrna distribution from the activation, inactivation, and production rates in degradation rate units\n",
    "    '''\n",
    "    #hist=np.zeros(2000,np.float64)\n",
    "    maxx=binsize*nbins+startx\n",
    "    xvals=np.arange(maxx,dtype=np.float64)\n",
    "    temp1=(1.0-iarate2-airate2)*np.log(amrate2)+sc.gammaln(airate2+iarate2)\n",
    "    np.seterr(all='ignore')\n",
    "    temp2=(airate2-1.0)*np.log(amrate2-xvals)+(iarate2-1.0)*np.log(xvals)\n",
    "    np.seterr(all=None)\n",
    "    tempden=sc.gammaln(iarate2)+sc.gammaln(airate2)\n",
    "    tempd=temp1+temp2-tempden\n",
    "    hist=np.exp(tempd)\n",
    "    hist[np.isinf(hist)]=0.0\n",
    "    hist[np.isnan(hist)]=0.0\n",
    "    hist=convolvePoisson(hist)\n",
    "    hist/=hist.sum()\n",
    "    binhist=hist[startx:].reshape((nbins,binsize)).sum(axis=1)\n",
    "    binxvals=np.arange(startx,maxx,binsize)\n",
    "    return binhist,binxvals"
   ]
  },
  {
   "cell_type": "code",
   "execution_count": 3,
   "id": "1d526651",
   "metadata": {},
   "outputs": [],
   "source": [
    "tdf=pd.read_csv('ppo1_wt_hist.csv')"
   ]
  },
  {
   "cell_type": "code",
   "execution_count": 6,
   "id": "ca20780b",
   "metadata": {},
   "outputs": [
    {
     "name": "stdout",
     "output_type": "stream",
     "text": [
      "nbins: 50\n",
      "binsize: 50\n"
     ]
    }
   ],
   "source": [
    "#read in our distribution\n",
    "#xvals1,yvals1,*_=importpw.plot4read('ppo1_wt_hist_norm_fit.pw2')\n",
    "tdf=pd.read_csv('ppo1_wt_hist.csv')\n",
    "xvals=tdf['X'].values\n",
    "yvals=tdf['Frequency'].values\n",
    "nwt=yvals.sum()\n",
    "yvals/=nwt\n",
    "nbins=len(xvals)\n",
    "binsize=int(xvals[1]-xvals[0])\n",
    "print('nbins: '+str(nbins))\n",
    "print('binsize: '+str(binsize))"
   ]
  },
  {
   "cell_type": "code",
   "execution_count": 7,
   "id": "82c13add",
   "metadata": {},
   "outputs": [],
   "source": [
    "#ok--now let's fit the rates\n",
    "#fix the active/inactive ratio (from fraction of cells with nascents)\n",
    "wtairatio=0.69\n",
    "def fitfunc(xvals,*params):\n",
    "    tnbins=len(xvals)\n",
    "    tbinsize=int(xvals[1]-xvals[0])\n",
    "    return getRatioDist(params[0],wtairatio,params[1],binsize=tbinsize,nbins=tnbins)[0].astype(float)"
   ]
  },
  {
   "cell_type": "code",
   "execution_count": 8,
   "id": "3f9ac621",
   "metadata": {},
   "outputs": [
    {
     "name": "stdout",
     "output_type": "stream",
     "text": [
      "fit params: [   2.5631381 1526.1350337]\n"
     ]
    }
   ],
   "source": [
    "guessparams=[3.0,500.0]\n",
    "lb=[0.1,10.0]\n",
    "ub=[50.0,5000.0]\n",
    "#set up the weights (stdev in each data point)\n",
    "#sigma=np.sqrt(yvals)\n",
    "#sigma[yvals==0.0]=1.0\n",
    "sigma=np.ones(len(yvals))\n",
    "fitparams,_=so.curve_fit(fitfunc,xvals,yvals,p0=guessparams,sigma=sigma,bounds=(lb,ub),method='trf')\n",
    "print('fit params: '+str(fitparams))"
   ]
  },
  {
   "cell_type": "code",
   "execution_count": 9,
   "id": "7db47798",
   "metadata": {},
   "outputs": [
    {
     "data": {
      "image/png": "[encoded data removed]",
      "text/plain": [
       "<Figure size 432x288 with 1 Axes>"
      ]
     },
     "metadata": {
      "needs_background": "light"
     },
     "output_type": "display_data"
    }
   ],
   "source": [
    "#tdist,distx=getRatioDist(3.5,0.92,720.0,binsize=binsize,nbins=nbins)\n",
    "fit=fitfunc(xvals,*fitparams)\n",
    "plt.plot(xvals,yvals,'ro')\n",
    "plt.plot(xvals,fit,'b-')\n",
    "#plt.yscale('log')\n",
    "plt.show()"
   ]
  },
  {
   "cell_type": "code",
   "execution_count": 10,
   "id": "7efdefc2",
   "metadata": {},
   "outputs": [],
   "source": [
    "def arbdev(dist1,nvals):\n",
    "    dist=dist1/dist1.sum()\n",
    "    rand=np.random.uniform(size=nvals)\n",
    "    deviates=np.full(nvals,-1,dtype=int)\n",
    "    integrals=np.zeros(nvals,dtype=float)\n",
    "    for i in range(len(dist)):\n",
    "        for j in range(nvals):\n",
    "            if(integrals[j]<rand[j]):\n",
    "                integrals[j]+=dist[i]\n",
    "            elif(deviates[j]<0):\n",
    "                deviates[j]=i-1\n",
    "    for j in range(nvals):\n",
    "        if(deviates[j]<0):\n",
    "            deviates[j]=len(dist)-1\n",
    "    return deviates,rand\n",
    "    \n",
    "def simDistribution(dist,ncells):\n",
    "    deviates,_=arbdev(dist,ncells)\n",
    "    hist,_=np.histogram(deviates,bins=np.arange(len(dist)+1))\n",
    "    return hist\n",
    "\n",
    "#now let's do monte carlo\n",
    "#these fits are slow so only do 100 for the simulation\n",
    "def monteCarlo(fitfunc,xvals,yvals,fitparams,sigma,bounds,ncells,niter=10):\n",
    "    #first get the best fit\n",
    "    fit=fitfunc(xvals,*fitparams)\n",
    "    fitscaled=fit*ncells\n",
    "    allsfitparams=[]\n",
    "    #now simulate histograms according to this distribution and fit them\n",
    "    for i in range(niter):\n",
    "        #at each position the data should follow a poisson distribution\n",
    "        #sim=np.array([np.random.poisson(fitscaled[i],1)[0] for i in range(len(fitscaled))])\n",
    "        sim=simDistribution(fit,ncells)\n",
    "        sim=sim/sim.sum()\n",
    "        badfit=False\n",
    "        try:\n",
    "            sfitparams,_=so.curve_fit(fitfunc,xvals,sim,p0=fitparams,sigma=sigma,bounds=bounds,method='trf',maxfev=100)\n",
    "        except RuntimeError:\n",
    "            print('unfittable, skipping simulation')\n",
    "            badfit=True\n",
    "        if(not badfit):\n",
    "            print(sfitparams)\n",
    "            allsfitparams.append(sfitparams)\n",
    "    return allsfitparams"
   ]
  },
  {
   "cell_type": "code",
   "execution_count": 13,
   "id": "f1ba72f3",
   "metadata": {
    "scrolled": true
   },
   "outputs": [
    {
     "name": "stdout",
     "output_type": "stream",
     "text": [
      "[   3.00478083 1536.18478894]\n",
      "[   2.78638066 1527.45786798]\n",
      "[   2.80438987 1625.77225043]\n",
      "[   2.66865126 1548.56841162]\n",
      "[   2.47631805 1525.07894996]\n",
      "[   2.59966787 1505.35804811]\n",
      "[   2.14717186 1556.91559523]\n",
      "[   2.72013441 1518.52569629]\n",
      "[   2.67174219 1552.73129743]\n",
      "[   2.86040955 1534.8923798 ]\n",
      "[   2.62031353 1403.39867116]\n",
      "[   2.58397523 1575.39376271]\n",
      "[   2.97115431 1502.80008282]\n",
      "[   3.00340982 1568.05467543]\n",
      "[   2.52567591 1566.94424427]\n",
      "[   2.66071053 1578.18086556]\n",
      "[   2.18683175 1447.89444144]\n",
      "[   2.93046482 1515.30706968]\n",
      "[   2.58856165 1546.58220955]\n",
      "[   2.45496066 1488.21980566]\n",
      "[   2.3416731  1473.37909431]\n",
      "[   2.1686153  1444.03877874]\n",
      "[   2.55010949 1413.78390953]\n",
      "[   2.11301534 1529.35746147]\n",
      "[   2.97913236 1522.82675099]\n",
      "[   2.37889701 1573.10592351]\n",
      "[   2.47325795 1509.16443387]\n",
      "[   2.54928392 1519.35852445]\n",
      "[   2.34895422 1504.12408845]\n",
      "[   2.39295878 1597.79037835]\n",
      "[   2.56463208 1597.63980499]\n",
      "[   2.39388061 1518.62623406]\n",
      "[   2.92218675 1660.05418178]\n",
      "[   2.85902613 1499.86339598]\n",
      "[   2.03297267 1553.46864257]\n",
      "[   3.2970903  1567.51481376]\n",
      "[   2.57276622 1517.78673591]\n",
      "[   2.04178255 1548.91437353]\n",
      "[   2.57178682 1429.7395311 ]\n",
      "[   3.5856946  1473.70747576]\n",
      "[   2.4728052  1490.60222075]\n",
      "[   2.82445705 1569.31367293]\n",
      "[   2.68063303 1574.64287571]\n",
      "[   2.95313931 1440.76377619]\n",
      "[   3.20890942 1523.15776633]\n",
      "[   2.43386758 1504.60716479]\n",
      "[   2.14958327 1473.18138164]\n",
      "[   2.26676101 1468.58866941]\n",
      "[   2.72611816 1517.70606237]\n",
      "[   3.01886175 1591.49361652]\n"
     ]
    }
   ],
   "source": [
    "#get the monte carlo parameters for wt (183 measured cells)\n",
    "#warning: this is really slow\n",
    "mcparams=monteCarlo(fitfunc,xvals,yvals,fitparams,sigma,(lb,ub),int(nwt),niter=50)"
   ]
  },
  {
   "cell_type": "code",
   "execution_count": 14,
   "id": "4cab05d8",
   "metadata": {},
   "outputs": [
    {
     "name": "stdout",
     "output_type": "stream",
     "text": [
      "parameter avgs:\n",
      "[   2.62277113 1524.65125708]\n",
      "parameter errors:\n",
      "[ 0.32729836 52.50040283]\n"
     ]
    }
   ],
   "source": [
    "#now get the standard deviations which represent the errors\n",
    "print('parameter avgs:')\n",
    "print(np.array(mcparams).mean(axis=0))\n",
    "print('parameter errors:')\n",
    "print(np.array(mcparams).std(axis=0))"
   ]
  },
  {
   "cell_type": "code",
   "execution_count": 31,
   "id": "d9951ec6",
   "metadata": {},
   "outputs": [
    {
     "name": "stdout",
     "output_type": "stream",
     "text": [
      "nbins: 29\n",
      "binsize: 50\n"
     ]
    }
   ],
   "source": [
    "#next read in the mutant data\n",
    "#read in our distribution\n",
    "#xvals1,yvals1,*_=importpw.plot4read('ppo1_mut_hist_norm_fit.pw2')\n",
    "mtdf=pd.read_csv('ppo1_mut_hist.csv')\n",
    "mxvals=mtdf['X'].values\n",
    "myvals=mtdf['Frequency'].values.astype(float)\n",
    "nmut=myvals.sum()\n",
    "myvals/=nmut\n",
    "mnbins=len(mxvals)\n",
    "mbinsize=int(mxvals[1]-mxvals[0])\n",
    "print('nbins: '+str(mnbins))\n",
    "print('binsize: '+str(mbinsize))"
   ]
  },
  {
   "cell_type": "code",
   "execution_count": 32,
   "id": "5f10d50a",
   "metadata": {},
   "outputs": [],
   "source": [
    "#ok--now let's fit the rates\n",
    "#fix the active/inactive ratio (from fraction of cells with nascents)\n",
    "mutairatio=0.036\n",
    "def mutfitfunc(xvals,*params):\n",
    "    tnbins=len(xvals)\n",
    "    tbinsize=int(xvals[1]-xvals[0])\n",
    "    return getRatioDist(params[0],mutairatio,params[1],binsize=tbinsize,nbins=tnbins)[0].astype(float)"
   ]
  },
  {
   "cell_type": "code",
   "execution_count": 33,
   "id": "1bc8de38",
   "metadata": {},
   "outputs": [
    {
     "name": "stdout",
     "output_type": "stream",
     "text": [
      "fit params: [1.85325768e-01 5.70655335e+02]\n"
     ]
    }
   ],
   "source": [
    "mguessparams=[0.5,500.0]\n",
    "#msigma=np.sqrt(myvals)\n",
    "#msigma[myvals==0.0]=1.0\n",
    "msigma=np.ones(len(myvals))\n",
    "mfitparams,_=so.curve_fit(mutfitfunc,mxvals,myvals,p0=mguessparams,sigma=msigma,bounds=(lb,ub),method='trf')\n",
    "print('fit params: '+str(mfitparams))"
   ]
  },
  {
   "cell_type": "code",
   "execution_count": 34,
   "id": "96c09625",
   "metadata": {},
   "outputs": [
    {
     "data": {
      "image/png": "[encoded data removed]",
      "text/plain": [
       "<Figure size 432x288 with 1 Axes>"
      ]
     },
     "metadata": {
      "needs_background": "light"
     },
     "output_type": "display_data"
    }
   ],
   "source": [
    "mfit=mutfitfunc(mxvals,*mfitparams)\n",
    "plt.plot(mxvals,myvals,'ro')\n",
    "plt.plot(mxvals,mfit,'b-')\n",
    "#plt.yscale('log')\n",
    "plt.show()"
   ]
  },
  {
   "cell_type": "code",
   "execution_count": 35,
   "id": "2e8c8286",
   "metadata": {},
   "outputs": [
    {
     "name": "stdout",
     "output_type": "stream",
     "text": [
      "[1.00000000e-01 3.55994361e+02]\n",
      "[2.60794939e-01 7.49470516e+02]\n",
      "[1.03974438e-01 2.98898201e+02]\n",
      "[1.08627661e-01 3.68292050e+02]\n",
      "[2.01059320e-01 6.74060081e+02]\n",
      "[2.07705280e-01 6.96420683e+02]\n",
      "[1.00000000e-01 3.46229895e+02]\n",
      "[1.00000000e-01 3.40312484e+02]\n",
      "[1.00000000e-01 3.99450421e+02]\n",
      "[1.00000000e-01 3.53938671e+02]\n",
      "[2.67641195e-01 7.80844400e+02]\n",
      "[5.52773702e-01 8.51368988e+02]\n",
      "[3.97152935e-01 7.51983405e+02]\n",
      "[3.71337747e-01 8.80637271e+02]\n",
      "[1.94008441e-01 5.24712668e+02]\n",
      "[3.25485477e-01 7.52592294e+02]\n",
      "[5.35647210e-01 9.00922402e+02]\n",
      "[2.94006497e-01 7.05903343e+02]\n",
      "[1.00000000e-01 4.15216888e+02]\n",
      "[1.30358937e-01 4.61039937e+02]\n",
      "[3.91397157e-01 9.11251958e+02]\n",
      "[2.99913743e-01 8.56646419e+02]\n",
      "[1.00000000e-01 4.53574252e+02]\n",
      "[1.44105680e-01 5.54505843e+02]\n",
      "[2.15811419e-01 6.91099828e+02]\n",
      "[1.00000000e-01 3.62548274e+02]\n",
      "[1.03984155e-01 4.34258157e+02]\n",
      "[1.00000000e-01 3.40631976e+02]\n",
      "[2.18828109e-01 4.84267069e+02]\n",
      "[2.00782707e-01 5.34777627e+02]\n",
      "[2.09899061e-01 6.64075628e+02]\n",
      "[3.42347886e-01 7.57251796e+02]\n",
      "[1.00000000e-01 3.86623464e+02]\n",
      "[3.33935588e-01 7.29753201e+02]\n",
      "[2.47251318e-01 6.85054135e+02]\n",
      "[3.20878883e-01 6.97592829e+02]\n",
      "[2.56338091e-01 7.53475584e+02]\n",
      "[4.69751659e-01 8.29007256e+02]\n",
      "[2.62957722e-01 5.35763029e+02]\n",
      "[1.00000000e-01 4.58284866e+02]\n",
      "[1.00000000e-01 3.44191022e+02]\n",
      "[2.82656975e-01 7.11941226e+02]\n",
      "[3.00367688e-01 6.69391994e+02]\n",
      "[2.08341148e-01 5.58809859e+02]\n",
      "[4.66494764e-01 9.17677916e+02]\n",
      "[3.73884411e-01 6.51191998e+02]\n",
      "[1.00000000e-01 3.35449336e+02]\n",
      "[1.58020064e-01 5.21030804e+02]\n",
      "[2.13764374e-01 6.81196528e+02]\n",
      "[3.10710023e-01 7.90756305e+02]\n"
     ]
    }
   ],
   "source": [
    "#get the monte carlo parameters for mutant (339 measured cells)\n",
    "#warning: this is really slow\n",
    "mmcparams=monteCarlo(mutfitfunc,mxvals,myvals,mfitparams,msigma,(lb,ub),int(nmut),niter=50)"
   ]
  },
  {
   "cell_type": "code",
   "execution_count": 36,
   "id": "7589f0eb",
   "metadata": {},
   "outputs": [
    {
     "name": "stdout",
     "output_type": "stream",
     "text": [
      "parameter avgs:\n",
      "[2.31659928e-01 5.98207383e+02]\n",
      "parameter errors:\n",
      "[1.23906313e-01 1.86230997e+02]\n"
     ]
    }
   ],
   "source": [
    "#now get the standard deviations which represent the errors\n",
    "print('parameter avgs:')\n",
    "print(np.array(mmcparams).mean(axis=0))\n",
    "print('parameter errors:')\n",
    "print(np.array(mmcparams).std(axis=0))"
   ]
  },
  {
   "cell_type": "code",
   "execution_count": 40,
   "id": "50ee9f16",
   "metadata": {},
   "outputs": [
    {
     "name": "stdout",
     "output_type": "stream",
     "text": [
      "R^2 wt and mutant:\n",
      "[0.7863082070109018, 0.5423345580994556]\n",
      "chi^2 wt and mutant:\n",
      "[4.414160137178139, 3.5914818663136012]\n"
     ]
    }
   ],
   "source": [
    "#need to calculate R^2 values: 1-rss/tss where rss is residual sum of squares and tss is total sum of squares\n",
    "wtresid=fit-yvals\n",
    "wtresidnorm=(wtresid*nwt)/(sigma*np.sqrt(nwt))\n",
    "wtresidnorm[yvals==0]=0.0\n",
    "wtc2=(wtresidnorm**2).sum()/(nbins-2)\n",
    "mutresid=mfit-myvals\n",
    "mutresidnorm=(mutresid*nmut)/np.sqrt(myvals*nmut)\n",
    "mutresidnorm[myvals==0]=0.0\n",
    "mutc2=(mutresidnorm**2).sum()/(mnbins-2)\n",
    "wtrvar=((wtresid*nwt)**2).sum()\n",
    "wtvar=(((yvals-yvals.mean())*nwt)**2).sum()\n",
    "mutrvar=((mutresid*nmut)**2).sum()\n",
    "mutvar=(((myvals-myvals.mean())*nmut)**2).sum()\n",
    "r2wt=1.0-wtrvar/wtvar\n",
    "r2mut=1.0-mutrvar/wtrvar\n",
    "print('R^2 wt and mutant:')\n",
    "print([r2wt,r2mut])\n",
    "print('chi^2 wt and mutant:')\n",
    "print([wtrvar/(nbins-2),mutrvar/(mnbins-2)])"
   ]
  },
  {
   "cell_type": "code",
   "execution_count": 41,
   "id": "04deeb73",
   "metadata": {},
   "outputs": [],
   "source": [
    "#now calculate the chi squared values if we fix the mutant kprod to the wt value\n",
    "wtfixkprod=1526\n",
    "def mutfitfuncfixed(xvals,*params):\n",
    "    tnbins=len(xvals)\n",
    "    tbinsize=int(xvals[1]-xvals[0])\n",
    "    return getRatioDist(params[0],mutairatio,wtfixkprod,binsize=tbinsize,nbins=tnbins)[0].astype(float)"
   ]
  },
  {
   "cell_type": "code",
   "execution_count": 42,
   "id": "c5caf110",
   "metadata": {},
   "outputs": [
    {
     "name": "stdout",
     "output_type": "stream",
     "text": [
      "fit params fixed: [0.26948246]\n"
     ]
    }
   ],
   "source": [
    "mfguessparams=[0.5]\n",
    "lb=[0.1]\n",
    "ub=[10.0]\n",
    "mffitparams,_=so.curve_fit(mutfitfuncfixed,mxvals,myvals,p0=mfguessparams,sigma=msigma,bounds=(lb,ub),method='trf')\n",
    "print('fit params fixed: '+str(mffitparams))"
   ]
  },
  {
   "cell_type": "code",
   "execution_count": 43,
   "id": "72f8210a",
   "metadata": {},
   "outputs": [
    {
     "data": {
      "image/png": "[encoded data removed]",
      "text/plain": [
       "<Figure size 432x288 with 1 Axes>"
      ]
     },
     "metadata": {
      "needs_background": "light"
     },
     "output_type": "display_data"
    }
   ],
   "source": [
    "mffit=mutfitfuncfixed(mxvals,*mffitparams)\n",
    "plt.plot(mxvals,myvals,'ro')\n",
    "plt.plot(mxvals,mffit,'b-')\n",
    "plt.show()"
   ]
  },
  {
   "cell_type": "code",
   "execution_count": 44,
   "id": "b48a29b6",
   "metadata": {},
   "outputs": [
    {
     "name": "stdout",
     "output_type": "stream",
     "text": [
      "r squared (reg, fixed):\n",
      "[0.5423345580994556, 0.9546909008317722]\n",
      "chi squared (reg, fixed):\n",
      "[3.5914818663136012, 113.46440020210854]\n"
     ]
    }
   ],
   "source": [
    "mfresid=mffit-myvals\n",
    "mfresidnorm=(mfresid*nmut)/np.sqrt(nmut*myvals)\n",
    "mfresidnorm[myvals==0]=0.0\n",
    "mfc2=(mfresidnorm**2).sum()/(mnbins-1)\n",
    "mfrvar=((mfresid*nmut)**2).sum()\n",
    "r2mf=1.0-mfrvar/mutvar\n",
    "print('r squared (reg, fixed):')\n",
    "print([r2mut,r2mf])\n",
    "print('chi squared (reg, fixed):')\n",
    "print([mutrvar/(mnbins-2),mfrvar/(mnbins-2)])"
   ]
  },
  {
   "cell_type": "code",
   "execution_count": 47,
   "id": "54a338dc",
   "metadata": {},
   "outputs": [
    {
     "name": "stdout",
     "output_type": "stream",
     "text": [
      "F: 826.0013291147236\n",
      "P: 1.1102230246251565e-16\n"
     ]
    }
   ],
   "source": [
    "f=((mfrvar-mutrvar)/mutrvar)/(1/(mnbins-2))\n",
    "print('F: '+str(f))\n",
    "p=ss.f.cdf(f,1,mnbins-2)\n",
    "print('P: '+str(1-p))"
   ]
  },
  {
   "cell_type": "code",
   "execution_count": null,
   "id": "01f8b5fa",
   "metadata": {},
   "outputs": [],
   "source": []
  }
 ],
 "metadata": {
  "kernelspec": {
   "display_name": "Python 3",
   "language": "python",
   "name": "python3"
  },
  "language_info": {
   "codemirror_mode": {
    "name": "ipython",
    "version": 3
   },
   "file_extension": ".py",
   "mimetype": "text/x-python",
   "name": "python",
   "nbconvert_exporter": "python",
   "pygments_lexer": "ipython3",
   "version": "3.7.0"
  }
 },
 "nbformat": 4,
 "nbformat_minor": 5
}
